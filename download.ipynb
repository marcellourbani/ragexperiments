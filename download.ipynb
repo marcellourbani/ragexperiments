{
 "cells": [
  {
   "cell_type": "markdown",
   "metadata": {},
   "source": [
    "Download KB articles"
   ]
  },
  {
   "cell_type": "code",
   "execution_count": null,
   "metadata": {},
   "outputs": [],
   "source": [
    "%pip install python-dotenv"
   ]
  },
  {
   "cell_type": "code",
   "execution_count": null,
   "metadata": {},
   "outputs": [],
   "source": [
    "import requests\n",
    "import json\n",
    "from dotenv import dotenv_values\n",
    "class Zdclient:\n",
    "    def __init__(self) -> None:\n",
    "        config = dotenv_values()\n",
    "        self._token = config[\"ZDTOKEN\"]\n",
    "        self.url = config[\"ZDURL\"]\n",
    "    def _getheaders(self):\n",
    "        return {\"Authorization\":f'Bearer {self._token}',\"Accept\":\"application/json\"}\n",
    "    def getarticle(self,id):\n",
    "        resp = requests.get(f'{self.url}/api/v2/help_center/en-us/articles/{id}.json',headers=self._getheaders())\n",
    "        return json.loads(resp.content)\n",
    "    def getsection(self,id):\n",
    "        resp = requests.get(f'{self.url}/api/v2/help_center/en-us/sections/{id}/articles.json',headers=self._getheaders())\n",
    "        return json.loads(resp.content)\n",
    "\n",
    "client = Zdclient()\n",
    "art = client.getarticle('7020667409949')\n",
    "sect = client.getsection('202280183')\n",
    "sect"
   ]
  },
  {
   "cell_type": "code",
   "execution_count": null,
   "metadata": {},
   "outputs": [],
   "source": []
  }
 ],
 "metadata": {
  "kernelspec": {
   "display_name": "base",
   "language": "python",
   "name": "python3"
  },
  "language_info": {
   "codemirror_mode": {
    "name": "ipython",
    "version": 3
   },
   "file_extension": ".py",
   "mimetype": "text/x-python",
   "name": "python",
   "nbconvert_exporter": "python",
   "pygments_lexer": "ipython3",
   "version": "3.11.6"
  }
 },
 "nbformat": 4,
 "nbformat_minor": 2
}
