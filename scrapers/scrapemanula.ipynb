{
 "cells": [
  {
   "cell_type": "markdown",
   "metadata": {},
   "source": [
    "Scrape a manula document, put results in a postgres database"
   ]
  },
  {
   "cell_type": "code",
   "execution_count": 2,
   "metadata": {},
   "outputs": [],
   "source": [
    "import requests\n",
    "import json\n",
    "from dotenv import dotenv_values\n",
    "from bs4 import BeautifulSoup\n",
    "from base64 import b64encode\n",
    "import psycopg\n",
    "from dataclasses import dataclass,asdict\n",
    "from psycopg.rows import class_row\n",
    "import re\n",
    "\n",
    "rootdoc = dotenv_values()[\"MANULAROOT\"] \n",
    "rootdoc = \"\" if rootdoc == None else rootdoc\n",
    "password = dotenv_values()[\"POSTGRES_PASSWORD\"]\n"
   ]
  },
  {
   "cell_type": "code",
   "execution_count": 13,
   "metadata": {},
   "outputs": [],
   "source": [
    "@dataclass\n",
    "class WebArticle:\n",
    "    url:str\n",
    "    title:str\n",
    "    contents:str\n",
    "    hasvectors:bool = False\n",
    "    def dict(self):\n",
    "        return {k: str(v) for k, v in asdict(self).items()}"
   ]
  },
  {
   "cell_type": "code",
   "execution_count": 14,
   "metadata": {},
   "outputs": [],
   "source": [
    "def manularootlinks(url):\n",
    "    resp = requests.get(url)\n",
    "    content = BeautifulSoup(resp.content).findAll(\"div\",{\"class\":\"box-toc\"})\n",
    "    links = [url]\n",
    "    for div in content:\n",
    "        l= div.findAll('a')\n",
    "        for link in l:\n",
    "            if \"href\" in link.attrs:\n",
    "                url = link.attrs['href']\n",
    "                if not re.search('/pdf$',url): links.append(link.attrs['href'])\n",
    "    return links\n",
    "def scrapeManula(url,limit=None):\n",
    "    links = manularootlinks(url)\n",
    "    arts = []\n",
    "    count = 0\n",
    "    for link in links:\n",
    "        count+=1\n",
    "        if limit!= None and count > limit : break\n",
    "        resp = requests.get(link)\n",
    "        soup = BeautifulSoup(resp.content)\n",
    "        content = soup.find(\"div\", id=\"content\")\n",
    "        title =soup.find(\"title\")\n",
    "        title = link if title == None else title.get_text()\n",
    "        if content == None: continue\n",
    "        arts.append(WebArticle( url = link,title = title, contents = str(content.get_text(\"\\n\"))))\n",
    "    return arts"
   ]
  },
  {
   "cell_type": "code",
   "execution_count": 19,
   "metadata": {},
   "outputs": [],
   "source": [
    "def connect(dbname=\"ragtest\",autocommit=False):\n",
    "        return psycopg.connect(f'host=pgvector dbname={dbname} user=postgres password={password}',autocommit=autocommit)\n",
    "def createTable():\n",
    "        with connect() as conn:\n",
    "            with conn.cursor() as cur:\n",
    "                cur.execute(\"\"\"\n",
    "                CREATE TABLE IF NOT EXISTS public.webarticles (\n",
    "                    url character varying(250) NOT NULL,\n",
    "                    title    text NOT NULL,\n",
    "                    contents text NOT NULL,\n",
    "                    hasvectors boolean,        \n",
    "                    CONSTRAINT webarticles_pkey PRIMARY KEY (url)\n",
    "                )\n",
    "                TABLESPACE pg_default;\n",
    "                \"\"\")\n",
    "def insertArticles(articles:list[WebArticle]):\n",
    "      with connect() as conn:\n",
    "            with conn.cursor() as cur:\n",
    "                  for art in articles:\n",
    "                        cur.execute(\"\"\"INSERT INTO public.webarticles (url, title,contents,hasvectors) VALUES (%(url)s,%(title)s,%(contents)s,%(hasvectors)s);\"\"\",art.dict())\n",
    "createTable()"
   ]
  },
  {
   "cell_type": "code",
   "execution_count": null,
   "metadata": {},
   "outputs": [],
   "source": [
    "\n",
    "articles = scrapeManula(rootdoc,10)\n",
    "insertArticles(articles)"
   ]
  }
 ],
 "metadata": {
  "kernelspec": {
   "display_name": "Python 3",
   "language": "python",
   "name": "python3"
  },
  "language_info": {
   "codemirror_mode": {
    "name": "ipython",
    "version": 3
   },
   "file_extension": ".py",
   "mimetype": "text/x-python",
   "name": "python",
   "nbconvert_exporter": "python",
   "pygments_lexer": "ipython3",
   "version": "3.11.8"
  }
 },
 "nbformat": 4,
 "nbformat_minor": 2
}
