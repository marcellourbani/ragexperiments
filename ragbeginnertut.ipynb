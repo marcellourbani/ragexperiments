{
 "cells": [
  {
   "cell_type": "markdown",
   "metadata": {},
   "source": [
    "from [A beginner’s guide to building a Retrieval Augmented Generation (RAG) application from scratch](https://medium.com/@wachambers/a-beginners-guide-to-building-a-retrieval-augmented-generation-rag-application-from-scratch-e52921953a5d)\n",
    "\n",
    "**The High Level Components of our RAG System**\n",
    "1. a collection of documents (formally called a corpus)\n",
    "2. An input from the user\n",
    "3. a similarity measure between the collection of documents and the user input"
   ]
  },
  {
   "cell_type": "code",
   "execution_count": 1,
   "metadata": {},
   "outputs": [],
   "source": [
    "import requests\n",
    "import json\n",
    "    \n",
    "corpus_of_documents = [\n",
    "    \"Take a leisurely walk in the park and enjoy the fresh air.\",\n",
    "    \"Visit a local museum and discover something new.\",\n",
    "    \"Attend a live music concert and feel the rhythm.\",\n",
    "    \"Go for a hike and admire the natural scenery.\",\n",
    "    \"Have a picnic with friends and share some laughs.\",\n",
    "    \"Explore a new cuisine by dining at an ethnic restaurant.\",\n",
    "    \"Take a yoga class and stretch your body and mind.\",\n",
    "    \"Join a local sports league and enjoy some friendly competition.\",\n",
    "    \"Attend a workshop or lecture on a topic you're interested in.\",\n",
    "    \"Visit an amusement park and ride the roller coasters.\"\n",
    "]\n",
    "\n",
    "# one of the easiest similarity metrics: size(intersection)/size(union)\n",
    "def jaccard_similarity(query, document):\n",
    "    query = query.lower().split(\" \")\n",
    "    document = document.lower().split(\" \")\n",
    "    intersection = set(query).intersection(set(document))\n",
    "    union = set(query).union(set(document))\n",
    "    return len(intersection)/len(union)\n",
    "\n",
    "# given a query, return the most similar document\n",
    "# no AI, just jaccard similarity\n",
    "def return_response(query, corpus):\n",
    "    similarities = []\n",
    "    for doc in corpus:\n",
    "        similarity = jaccard_similarity(query, doc)\n",
    "        similarities.append(similarity)\n",
    "    return corpus_of_documents[similarities.index(max(similarities))]\n",
    "\n",
    "def ranked_documents(query, corpus):\n",
    "    ranked = []\n",
    "    for doc in corpus:\n",
    "        similarity = jaccard_similarity(query, doc)\n",
    "        ranked.append((similarity,doc))\n",
    "    ranked.sort(key=lambda a:a[0],reverse=True)\n",
    "    return ranked"
   ]
  },
  {
   "cell_type": "code",
   "execution_count": 2,
   "metadata": {},
   "outputs": [
    {
     "data": {
      "text/plain": [
       "'Visit a local museum and discover something new.'"
      ]
     },
     "execution_count": 2,
     "metadata": {},
     "output_type": "execute_result"
    }
   ],
   "source": [
    "return_response(\"What is a leisure activity that you like?\", corpus_of_documents)"
   ]
  },
  {
   "cell_type": "code",
   "execution_count": 3,
   "metadata": {},
   "outputs": [
    {
     "data": {
      "text/plain": [
       "'Go for a hike and admire the natural scenery.'"
      ]
     },
     "execution_count": 3,
     "metadata": {},
     "output_type": "execute_result"
    }
   ],
   "source": [
    "return_response(\"I like to hike\", corpus_of_documents)"
   ]
  },
  {
   "cell_type": "code",
   "execution_count": 4,
   "metadata": {},
   "outputs": [
    {
     "data": {
      "text/plain": [
       "[(0.06666666666666667, 'Visit a local museum and discover something new.'),\n",
       " (0.0625, 'Attend a live music concert and feel the rhythm.'),\n",
       " (0.0625, 'Go for a hike and admire the natural scenery.'),\n",
       " (0.0625, 'Have a picnic with friends and share some laughs.'),\n",
       " (0.0625, 'Take a yoga class and stretch your body and mind.'),\n",
       " (0.058823529411764705,\n",
       "  'Explore a new cuisine by dining at an ethnic restaurant.'),\n",
       " (0.058823529411764705,\n",
       "  'Join a local sports league and enjoy some friendly competition.'),\n",
       " (0.058823529411764705,\n",
       "  \"Attend a workshop or lecture on a topic you're interested in.\"),\n",
       " (0.05555555555555555,\n",
       "  'Take a leisurely walk in the park and enjoy the fresh air.'),\n",
       " (0.0, 'Visit an amusement park and ride the roller coasters.')]"
      ]
     },
     "execution_count": 4,
     "metadata": {},
     "output_type": "execute_result"
    }
   ],
   "source": [
    "ranked_documents(\"What is a leisure activity that you like?\", corpus_of_documents)"
   ]
  },
  {
   "cell_type": "code",
   "execution_count": 5,
   "metadata": {},
   "outputs": [
    {
     "data": {
      "text/plain": [
       "'Go for a hike and admire the natural scenery.'"
      ]
     },
     "execution_count": 5,
     "metadata": {},
     "output_type": "execute_result"
    }
   ],
   "source": [
    "# No semantic analysis so far, just statistics\n",
    "return_response(\"I don't like to hike\", corpus_of_documents)"
   ]
  },
  {
   "cell_type": "markdown",
   "metadata": {},
   "source": [
    "To add semantics we'll need a LLM. We'll use [Ollama](https://ollama.com/), to install it run (you'll need sudo):\n",
    "```bash\n",
    "# install ollama \n",
    "curl -fsSL https://ollama.com/install.sh | sh\n",
    "# start the server\n",
    "ollama serve\n",
    "# install the llama3 model\n",
    "ollama pull llama3\n",
    "```\n",
    "\n",
    "Once installed you can simply run:\n",
    "\n",
    "```bash\n",
    "ollama serve\n",
    "```\n",
    "Ollama will then be available at [http://localhost:11434](http://localhost:11434)"
   ]
  },
  {
   "cell_type": "code",
   "execution_count": 12,
   "metadata": {},
   "outputs": [
    {
     "data": {
      "text/plain": [
       "\"Sorry to hear that you don't enjoy hiking. Here's a new recommendation for you:\\n\\nExplore a local museum or art gallery instead.\""
      ]
     },
     "execution_count": 12,
     "metadata": {},
     "output_type": "execute_result"
    }
   ],
   "source": [
    "def callllama(input,document):\n",
    "    prompt = \"\"\"\n",
    "You are a bot that makes recommendations for activities. You answer in very short sentences and do not include extra information.\n",
    "This is the recommended activity: {document}\n",
    "The user input is: {input}\n",
    "Compile a recommendation to the user based on the recommended activity and the user input.\n",
    "\"\"\"\n",
    "    url = 'http://localhost:11434/api/generate'\n",
    "    headers = {'Content-Type': 'application/json'}\n",
    "    data = { \"model\": \"llama3\", \"prompt\": prompt.format(input=input, document=document) }\n",
    "    response = requests.post(url, data=json.dumps(data), headers=headers, stream=True)\n",
    "    full_response = []\n",
    "    try:\n",
    "        count = 0\n",
    "        for line in response.iter_lines():\n",
    "            # filter out keep-alive new lines\n",
    "            # count += 1\n",
    "            # if count % 5== 0:\n",
    "            #     print(decoded_line['response']) # print every fifth token\n",
    "            if line:\n",
    "                decoded_line = json.loads(line.decode('utf-8'))\n",
    "                full_response.append(decoded_line['response'])\n",
    "    finally:\n",
    "        response.close()\n",
    "    return(''.join(full_response))\n",
    "\n",
    "def simpleRag(input,corpus):\n",
    "    document = return_response(input, corpus)\n",
    "    resp = callllama(input,document)\n",
    "    return resp\n",
    "\n",
    "\n",
    "    \n",
    "simpleRag(\"I don't like to hike\", corpus_of_documents)"
   ]
  }
 ],
 "metadata": {
  "kernelspec": {
   "display_name": "Python 3",
   "language": "python",
   "name": "python3"
  },
  "language_info": {
   "codemirror_mode": {
    "name": "ipython",
    "version": 3
   },
   "file_extension": ".py",
   "mimetype": "text/x-python",
   "name": "python",
   "nbconvert_exporter": "python",
   "pygments_lexer": "ipython3",
   "version": "3.11.6"
  }
 },
 "nbformat": 4,
 "nbformat_minor": 2
}
